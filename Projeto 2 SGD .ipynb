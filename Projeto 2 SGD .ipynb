{
 "cells": [
  {
   "cell_type": "markdown",
   "id": "a2719ca5",
   "metadata": {},
   "source": [
    "# Análise da Energia/Eletricidade no Mundo e os seus impactos a nível económico e climático"
   ]
  },
  {
   "cell_type": "markdown",
   "id": "034c4a9d",
   "metadata": {},
   "source": [
    "Datasets encontrados:<br> <br>\n",
    "1. co2-per-capita-vs-renewable-electricity\n",
    "2. primary-energy-source-bar\n",
    "3. SYB64_263_202110_Production Trade and Supply of Energy\n",
    "4. global-electricity-per-kwh-pricing-2021\n",
    "\n",
    "\n",
    "## Perguntas a responder\n",
    "● Países que consomem mais energia pouco poluente (renovável + nuclear);\n",
    "\n",
    "● Países que consomem mais energia poluente;\n",
    "\n",
    "● Países que consomem mais energia nuclear;\n",
    "\n",
    "● Transição global para energia renovável;\n",
    "\n",
    "● Países com maior transição para energia renovável;\n",
    "\n",
    "● Países que consomem mais energia;\n",
    "\n",
    "● Correlação entre emissão de CO2 e produção de eletricidade via fontes renováveis;\n",
    "\n",
    "● Países que produzem mais energia;\n",
    "\n",
    "● Países que exportam mais energia;\n",
    "\n",
    "● Países que importam mais energia;\n",
    "\n",
    "● Correlação entre preço da eletricidade e percentagem de eletricidade proveniente de fontes renováveis;\n"
   ]
  },
  {
   "cell_type": "markdown",
   "id": "4568db01",
   "metadata": {},
   "source": [
    "### Descrição dos datasets"
   ]
  },
  {
   "cell_type": "code",
   "execution_count": 181,
   "id": "26b86cdb",
   "metadata": {},
   "outputs": [],
   "source": [
    "#import needed libraries & float format definition\n",
    "\n",
    "import unicodecsv\n",
    "import pandas as pd\n",
    "import numpy as np\n",
    "import matplotlib.pyplot as plt\n",
    "import seaborn as sns\n",
    "import datetime as dt\n",
    "from scipy import stats\n",
    "from scipy.stats import norm\n",
    "\n",
    "#pd.options.display.float_format = '{:.0f}'.format\n",
    "pd.options.display.float_format = '{:,.5f}'.format"
   ]
  },
  {
   "cell_type": "code",
   "execution_count": 182,
   "id": "80c80df4",
   "metadata": {},
   "outputs": [],
   "source": [
    "# Reading and showing head data\n",
    "\n",
    "energySourceCountry = pd.read_csv(\"primary-energy-source-bar.csv\")\n",
    "co2PerCapita = pd.read_csv(\"co2-per-capita-vs-renewable-electricity.csv\")\n",
    "productionAndSupplyEnergy = pd.read_csv(\"Production_Trade_and_Supply_of_Energy.csv\", encoding='latin-1')\n",
    "electricityPrice2021 = pd.read_excel(\"global-electricity-per-kwh-pricing-2021.xlsx\")\n"
   ]
  },
  {
   "cell_type": "markdown",
   "id": "d0029d2c",
   "metadata": {},
   "source": [
    "#### Pergunta 1: Quais são os Países que consomem mais energia pouco poluente (renovável + nuclear)?"
   ]
  },
  {
   "cell_type": "code",
   "execution_count": 190,
   "id": "462530ae",
   "metadata": {},
   "outputs": [
    {
     "data": {
      "image/png": "[encoded data removed]",
      "text/plain": [
       "<Figure size 432x288 with 1 Axes>"
      ]
     },
     "metadata": {
      "needs_background": "light"
     },
     "output_type": "display_data"
    }
   ],
   "source": [
    "countryEnergy = energySourceCountry\n",
    "countryEnergy['renewable_nuclear'] = countryEnergy['Nuclear Consumption - TWh'] + countryEnergy['Hydro Consumption - TWh'] + countryEnergy['Wind Consumption - TWh'] + countryEnergy['Solar Consumption - TWh'] + countryEnergy['Geo Biomass Other - TWh']\n",
    "\n",
    "countryEnergy = countryEnergy.sort_values(by=['renewable_nuclear'],ascending=False)\n",
    "\n",
    "cond1 = countryEnergy['Code'].notna()\n",
    "cond2 = countryEnergy['Year'] == 2020\n",
    "\n",
    "countryEnergy = countryEnergy.loc[(cond1) & (cond2)].iloc[1:6]\n",
    "countryEnergy.plot.bar(x='Entity', y='renewable_nuclear', rot=0, grid=True)\n",
    "plt.xlabel('Nome do país', fontweight='bold')\n",
    "plt.ylabel('Consumo em TWh de energgias renováveis + nuclear', fontweight='bold')\n",
    "plt.legend(['Energia renovável + Nuclear'])\n",
    "plt.show()"
   ]
  },
  {
   "cell_type": "code",
   "execution_count": null,
   "id": "9e8501e4",
   "metadata": {},
   "outputs": [],
   "source": [
    "co2PerCapita"
   ]
  },
  {
   "cell_type": "code",
   "execution_count": null,
   "id": "1cdd1723",
   "metadata": {},
   "outputs": [],
   "source": [
    "productionAndSupplyEnergy"
   ]
  },
  {
   "cell_type": "code",
   "execution_count": null,
   "id": "85a70ab1",
   "metadata": {},
   "outputs": [],
   "source": [
    "electricityPrice2021"
   ]
  },
  {
   "cell_type": "code",
   "execution_count": null,
   "id": "70712788",
   "metadata": {},
   "outputs": [],
   "source": []
  }
 ],
 "metadata": {
  "kernelspec": {
   "display_name": "Python 3 (ipykernel)",
   "language": "python",
   "name": "python3"
  },
  "language_info": {
   "codemirror_mode": {
    "name": "ipython",
    "version": 3
   },
   "file_extension": ".py",
   "mimetype": "text/x-python",
   "name": "python",
   "nbconvert_exporter": "python",
   "pygments_lexer": "ipython3",
   "version": "3.9.7"
  }
 },
 "nbformat": 4,
 "nbformat_minor": 5
}
